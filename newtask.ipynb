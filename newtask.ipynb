{
 "cells": [
  {
   "cell_type": "code",
   "execution_count": 1,
   "id": "6669308d-bc07-4cb9-a788-ca09c7a6d638",
   "metadata": {},
   "outputs": [],
   "source": [
    "import openai"
   ]
  },
  {
   "cell_type": "code",
   "execution_count": 2,
   "id": "61486ebd-603d-45d8-9083-90f08d571c9f",
   "metadata": {},
   "outputs": [],
   "source": [
    "from openai import OpenAI\n",
    "client = OpenAI()"
   ]
  },
  {
   "cell_type": "code",
   "execution_count": 3,
   "id": "e4e446b4-d478-41d6-9c17-384324ae2f52",
   "metadata": {},
   "outputs": [],
   "source": [
    "import os"
   ]
  },
  {
   "cell_type": "code",
   "execution_count": 4,
   "id": "fe49c89c-3e2a-4983-9ad5-17c4b2df04c8",
   "metadata": {},
   "outputs": [
    {
     "data": {
      "text/plain": [
       "ChatCompletion(id='chatcmpl-BkaqoPiYgKiFM0ONBzcloVraUmAxK', choices=[Choice(finish_reason='stop', index=0, logprobs=None, message=ChatCompletionMessage(content=\"Whether it's too late to join a course can depend on several factors:\\n\\n1. **Enrollment Deadlines**: Check if the course has a specific enrollment deadline. Most courses, especially formal academic ones, have set start dates and enrollment periods.\\n\\n2. **Course Progress**: If the course has already started, consider how far along it is. Joining late might mean you'll need to catch up on missed content, assignments, or discussions.\\n\\n3. **Course Type**: Online courses, especially those on platforms like Coursera, Udemy, or edX, often have more flexible enrollment policies. Some are self-paced, allowing you to start whenever you like.\\n\\n4. **Instructor or Institution Policy**: Some instructors or institutions might allow late enrollment but with the expectation that you catch up independently. It's worth contacting them directly to inquire about your situation.\\n\\n5. **Your Availability**: Consider your own time and ability to catch up on missed material. If the course requires a significant time commitment each week, ensure you can accommodate that in your schedule.\\n\\n6. **Prerequisites**: Make sure you meet any prerequisites for the course. Joining late could be even more challenging if there's foundational knowledge that the course assumes you already have.\\n\\nIf you're considering joining a course late, it's a good idea to reach out to the course provider or instructor to discuss your situation and see what options are available.\", refusal=None, role='assistant', annotations=[], audio=None, function_call=None, tool_calls=None))], created=1750444442, model='gpt-4o-2024-08-06', object='chat.completion', service_tier='default', system_fingerprint='fp_a288987b44', usage=CompletionUsage(completion_tokens=278, prompt_tokens=15, total_tokens=293, completion_tokens_details=CompletionTokensDetails(accepted_prediction_tokens=0, audio_tokens=0, reasoning_tokens=0, rejected_prediction_tokens=0), prompt_tokens_details=PromptTokensDetails(audio_tokens=0, cached_tokens=0)))"
      ]
     },
     "execution_count": 4,
     "metadata": {},
     "output_type": "execute_result"
    }
   ],
   "source": [
    "response=client.chat.completions.create(\n",
    "    model='gpt-4o', \n",
    "    messages=[{\"role\":\"user\",\"content\": \"is it late to join the course?\"}]\n",
    ")\n",
    "response"
   ]
  },
  {
   "cell_type": "code",
   "execution_count": 5,
   "id": "0f1461b5-321c-40d6-892f-8c07e2b80e61",
   "metadata": {},
   "outputs": [
    {
     "data": {
      "text/plain": [
       "\"Whether it's too late to join a course can depend on several factors:\\n\\n1. **Enrollment Deadlines**: Check if the course has a specific enrollment deadline. Most courses, especially formal academic ones, have set start dates and enrollment periods.\\n\\n2. **Course Progress**: If the course has already started, consider how far along it is. Joining late might mean you'll need to catch up on missed content, assignments, or discussions.\\n\\n3. **Course Type**: Online courses, especially those on platforms like Coursera, Udemy, or edX, often have more flexible enrollment policies. Some are self-paced, allowing you to start whenever you like.\\n\\n4. **Instructor or Institution Policy**: Some instructors or institutions might allow late enrollment but with the expectation that you catch up independently. It's worth contacting them directly to inquire about your situation.\\n\\n5. **Your Availability**: Consider your own time and ability to catch up on missed material. If the course requires a significant time commitment each week, ensure you can accommodate that in your schedule.\\n\\n6. **Prerequisites**: Make sure you meet any prerequisites for the course. Joining late could be even more challenging if there's foundational knowledge that the course assumes you already have.\\n\\nIf you're considering joining a course late, it's a good idea to reach out to the course provider or instructor to discuss your situation and see what options are available.\""
      ]
     },
     "execution_count": 5,
     "metadata": {},
     "output_type": "execute_result"
    }
   ],
   "source": [
    "response.choices[0].message.content"
   ]
  },
  {
   "cell_type": "code",
   "execution_count": null,
   "id": "12ce1b7b-d616-481a-b9dd-160c74fa0f66",
   "metadata": {},
   "outputs": [],
   "source": []
  }
 ],
 "metadata": {
  "kernelspec": {
   "display_name": "Python 3 (ipykernel)",
   "language": "python",
   "name": "python3"
  },
  "language_info": {
   "codemirror_mode": {
    "name": "ipython",
    "version": 3
   },
   "file_extension": ".py",
   "mimetype": "text/x-python",
   "name": "python",
   "nbconvert_exporter": "python",
   "pygments_lexer": "ipython3",
   "version": "3.12.1"
  }
 },
 "nbformat": 4,
 "nbformat_minor": 5
}
